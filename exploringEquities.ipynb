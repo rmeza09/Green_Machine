{
 "cells": [
  {
   "cell_type": "code",
   "execution_count": 9,
   "metadata": {},
   "outputs": [],
   "source": [
    "from alpaca.data.historical import StockHistoricalDataClient\n",
    "from alpaca.data.requests import StockBarsRequest\n",
    "from alpaca.data.timeframe import TimeFrame\n",
    "import pandas as pd\n",
    "import numpy as np\n",
    "from datetime import datetime"
   ]
  },
  {
   "cell_type": "code",
   "execution_count": 13,
   "metadata": {},
   "outputs": [
    {
     "name": "stdout",
     "output_type": "stream",
     "text": [
      "PKD5****\n"
     ]
    }
   ],
   "source": [
    "import os\n",
    "from dotenv import load_dotenv\n",
    "from pathlib import Path\n",
    "\n",
    "# Path to the .env file inside 01 - Documentation\n",
    "env_path = Path(\"01 - Documentation\") / \"keys.env\"\n",
    "\n",
    "# Load the .env file from that path\n",
    "load_dotenv(dotenv_path=env_path)\n",
    "\n",
    "# Now you can access your keys\n",
    "API_KEY = os.getenv(\"ALPACA_API_KEY\")\n",
    "SECRET_KEY = os.getenv(\"ALPACA_SECRET_KEY\")\n",
    "\n",
    "print(API_KEY[:4] + \"****\")  # optional: verify it's working\n"
   ]
  },
  {
   "cell_type": "code",
   "execution_count": 14,
   "metadata": {},
   "outputs": [
    {
     "name": "stdout",
     "output_type": "stream",
     "text": [
      "                                     open      high     low   close  \\\n",
      "symbol timestamp                                                      \n",
      "AAPL   2023-01-03 05:00:00+00:00  130.280  130.9000  124.17  125.07   \n",
      "       2023-01-04 05:00:00+00:00  126.890  128.6557  125.08  126.36   \n",
      "       2023-01-05 05:00:00+00:00  127.130  127.7700  124.76  125.02   \n",
      "       2023-01-06 05:00:00+00:00  126.010  130.2900  124.89  129.62   \n",
      "       2023-01-09 05:00:00+00:00  130.465  133.4100  129.89  130.15   \n",
      "\n",
      "                                       volume  trade_count        vwap  \n",
      "symbol timestamp                                                        \n",
      "AAPL   2023-01-03 05:00:00+00:00  124289279.0    1021067.0  125.660032  \n",
      "       2023-01-04 05:00:00+00:00   95426133.0     770045.0  126.643011  \n",
      "       2023-01-05 05:00:00+00:00   88344592.0     665463.0  126.006961  \n",
      "       2023-01-06 05:00:00+00:00   96468673.0     709888.0  128.362627  \n",
      "       2023-01-09 05:00:00+00:00   76653608.0     645367.0  131.545593  \n"
     ]
    }
   ],
   "source": [
    "# Create data client\n",
    "client = StockHistoricalDataClient(API_KEY, SECRET_KEY)\n",
    "\n",
    "# Define request\n",
    "request_params = StockBarsRequest(\n",
    "    symbol_or_symbols=[\"AAPL\"],\n",
    "    timeframe=TimeFrame.Day,\n",
    "    start=datetime(2023, 1, 1),\n",
    "    end=datetime(2023, 12, 31)\n",
    ")\n",
    "\n",
    "# Fetch data\n",
    "bars = client.get_stock_bars(request_params)\n",
    "df = bars.df\n",
    "\n",
    "print(df.head())\n"
   ]
  },
  {
   "cell_type": "code",
   "execution_count": null,
   "metadata": {},
   "outputs": [],
   "source": []
  }
 ],
 "metadata": {
  "kernelspec": {
   "display_name": "base",
   "language": "python",
   "name": "python3"
  },
  "language_info": {
   "codemirror_mode": {
    "name": "ipython",
    "version": 3
   },
   "file_extension": ".py",
   "mimetype": "text/x-python",
   "name": "python",
   "nbconvert_exporter": "python",
   "pygments_lexer": "ipython3",
   "version": "3.12.7"
  }
 },
 "nbformat": 4,
 "nbformat_minor": 2
}
