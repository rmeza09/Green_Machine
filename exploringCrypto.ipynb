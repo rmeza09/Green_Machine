{
 "cells": [
  {
   "cell_type": "code",
   "execution_count": 3,
   "metadata": {},
   "outputs": [],
   "source": [
    "from alpaca.data.historical import CryptoHistoricalDataClient\n",
    "from alpaca.data.requests import CryptoBarsRequest\n",
    "from alpaca.data.timeframe import TimeFrame\n",
    "import pandas as pd\n",
    "import numpy as np\n",
    "from datetime import datetime\n"
   ]
  },
  {
   "cell_type": "code",
   "execution_count": 4,
   "metadata": {},
   "outputs": [],
   "source": [
    "# No keys required for crypto data\n",
    "client = CryptoHistoricalDataClient()"
   ]
  },
  {
   "cell_type": "code",
   "execution_count": 7,
   "metadata": {},
   "outputs": [
    {
     "name": "stdout",
     "output_type": "stream",
     "text": [
      "                                       open     high       low     close  \\\n",
      "symbol  timestamp                                                          \n",
      "BTC/USD 2022-09-01 05:00:00+00:00  20055.79  20292.0  19564.86  20156.76   \n",
      "        2022-09-02 05:00:00+00:00  20156.76  20444.0  19757.72  19919.47   \n",
      "        2022-09-03 05:00:00+00:00  19924.83  19968.2  19658.04  19806.11   \n",
      "        2022-09-04 05:00:00+00:00  19805.39  20058.0  19587.86  19888.67   \n",
      "        2022-09-05 05:00:00+00:00  19888.67  20180.5  19635.96  19760.56   \n",
      "\n",
      "                                        volume  trade_count          vwap  \n",
      "symbol  timestamp                                                          \n",
      "BTC/USD 2022-09-01 05:00:00+00:00  7141.975485     110122.0  19934.167845  \n",
      "        2022-09-02 05:00:00+00:00  7165.911879      96231.0  20075.200868  \n",
      "        2022-09-03 05:00:00+00:00  2677.652012      51551.0  19800.185480  \n",
      "        2022-09-04 05:00:00+00:00  4325.678790      62082.0  19834.451414  \n",
      "        2022-09-05 05:00:00+00:00  6274.552824      84784.0  19812.095982  \n"
     ]
    }
   ],
   "source": [
    "# Creating request object\n",
    "request_params = CryptoBarsRequest(\n",
    "  symbol_or_symbols=[\"BTC/USD\"],\n",
    "  timeframe=TimeFrame.Day,\n",
    "  start=datetime(2022, 9, 1),\n",
    "  end=datetime(2022, 9, 7)\n",
    ")\n",
    "\n",
    "# Fetch data\n",
    "bars = client.get_crypto_bars(request_params)\n",
    "df = bars.df\n",
    "\n",
    "print(df.head())\n"
   ]
  }
 ],
 "metadata": {
  "kernelspec": {
   "display_name": "base",
   "language": "python",
   "name": "python3"
  },
  "language_info": {
   "codemirror_mode": {
    "name": "ipython",
    "version": 3
   },
   "file_extension": ".py",
   "mimetype": "text/x-python",
   "name": "python",
   "nbconvert_exporter": "python",
   "pygments_lexer": "ipython3",
   "version": "3.12.7"
  }
 },
 "nbformat": 4,
 "nbformat_minor": 2
}
