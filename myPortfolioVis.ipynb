{
 "cells": [
  {
   "cell_type": "code",
   "execution_count": null,
   "id": "b983ea20",
   "metadata": {},
   "outputs": [],
   "source": [
    "from alpaca.data.historical import StockHistoricalDataClient\n",
    "from alpaca.data.requests import StockBarsRequest\n",
    "from alpaca.data.timeframe import TimeFrame\n",
    "import pandas as pd\n",
    "import numpy as np\n",
    "from datetime import datetime\n",
    "import plotly.graph_objects as go\n",
    "\n",
    "import torch\n",
    "print(torch.__version__)\n",
    "print(torch.version.cuda)\n",
    "print(torch.backends.cudnn.version())\n",
    "print(\"CUDA available:\", torch.cuda.is_available())\n",
    "print(\"GPU:\", torch.cuda.get_device_name(0))\n",
    "\n",
    "import time"
   ]
  },
  {
   "cell_type": "code",
   "execution_count": null,
   "id": "f6c712b6",
   "metadata": {},
   "outputs": [],
   "source": [
    "import os\n",
    "from dotenv import load_dotenv\n",
    "from pathlib import Path\n",
    "\n",
    "# Path to the .env file inside 01 - Documentation\n",
    "env_path = Path(\"01 - Documentation\") / \"keys.env\"\n",
    "\n",
    "# Load the .env file from that path\n",
    "load_dotenv(dotenv_path=env_path)\n",
    "\n",
    "# Now you can access your keys\n",
    "API_KEY = os.getenv(\"ALPACA_API_KEY\")\n",
    "SECRET_KEY = os.getenv(\"ALPACA_SECRET_KEY\")\n",
    "\n",
    "print(API_KEY[:4] + \"****\")  # optional: verify it's working"
   ]
  },
  {
   "cell_type": "code",
   "execution_count": null,
   "id": "fed9df19",
   "metadata": {},
   "outputs": [],
   "source": [
    "import plotly.express as px\n",
    "\n",
    "myAssets = [\"AMZN\", \"META\", \"GOOGL\", \"AMD\", \"NKE\", \"UBER\", \"COST\", \"JPM\", \"CRM\", \"TXRH\"]\n",
    "\n"
   ]
  }
 ],
 "metadata": {
  "kernelspec": {
   "display_name": "base",
   "language": "python",
   "name": "python3"
  },
  "language_info": {
   "name": "python",
   "version": "3.12.7"
  }
 },
 "nbformat": 4,
 "nbformat_minor": 5
}
